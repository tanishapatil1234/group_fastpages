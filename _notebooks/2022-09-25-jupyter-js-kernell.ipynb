{
 "cells": [
  {
   "cell_type": "markdown",
   "metadata": {},
   "source": [
    "# Jupyter JS Kernell\n",
    "making a table using html fragments and javascript"
   ]
  },
  {
   "cell_type": "markdown",
   "metadata": {},
   "source": [
    "### Console Log + String\n",
    "- console.log is used behind the scenes and is not visible from the browser. "
   ]
  },
  {
   "cell_type": "code",
   "execution_count": 1,
   "metadata": {},
   "outputs": [
    {
     "name": "stdout",
     "output_type": "stream",
     "text": [
      "Hello world!\n"
     ]
    }
   ],
   "source": [
    "console.log(\"Hello world!\");\n"
   ]
  },
  {
   "cell_type": "markdown",
   "metadata": {},
   "source": [
    "### Console Log + String\n",
    "- console log also works without a string, and with a variable instead"
   ]
  },
  {
   "cell_type": "code",
   "execution_count": 2,
   "metadata": {},
   "outputs": [
    {
     "name": "stdout",
     "output_type": "stream",
     "text": [
      "Hello, World\n"
     ]
    }
   ],
   "source": [
    "var text = \"Hello, World\"; \n",
    "console.log(text);"
   ]
  },
  {
   "cell_type": "markdown",
   "metadata": {},
   "source": [
    "### Console.log + function\n",
    "- define function and call "
   ]
  },
  {
   "cell_type": "code",
   "execution_count": 5,
   "metadata": {},
   "outputs": [
    {
     "name": "stdout",
     "output_type": "stream",
     "text": [
      "Hello, World\n"
     ]
    }
   ],
   "source": [
    "function logIt(output) {\n",
    "    console.log(output);\n",
    "}\n",
    "logIt(text);"
   ]
  },
  {
   "cell_type": "markdown",
   "metadata": {},
   "source": [
    "### Console.log + function (re use)\n",
    "- re use and call function logIt"
   ]
  },
  {
   "cell_type": "code",
   "execution_count": 6,
   "metadata": {},
   "outputs": [
    {
     "name": "stdout",
     "output_type": "stream",
     "text": [
      "Reuse of logIT\n",
      "Hey!\n",
      "1234\n"
     ]
    }
   ],
   "source": [
    "console.log(\"Reuse of logIT\")\n",
    "logIt(\"Hey!\");\n",
    "logIt(1234)"
   ]
  },
  {
   "cell_type": "markdown",
   "metadata": {},
   "source": [
    "### Dynamic language\n",
    "- js is a loosely types language which means you don't have to specific information type that will be stored into the variable"
   ]
  },
  {
   "cell_type": "code",
   "execution_count": 7,
   "metadata": {},
   "outputs": [
    {
     "name": "stdout",
     "output_type": "stream",
     "text": [
      "Javascript is a loosely typed language: \n",
      "string ; hey\n",
      "string ; 1234\n",
      "object ; [ 1, 2, 3, 4 ]\n"
     ]
    }
   ],
   "source": [
    "function logItType(output) {\n",
    "    console.log(typeof output, \";\", output);\n",
    "}\n",
    "console.log(\"Javascript is a loosely typed language: \")\n",
    "logItType(\"hey\") // String\n",
    "logItType(\"1234\") // Number\n",
    "logItType([1,2,3,4]); // Object or Array"
   ]
  },
  {
   "cell_type": "markdown",
   "metadata": {},
   "source": [
    "### Build person function to save list\n",
    "- function Person allows to gain name, favorite color, and age data of the user"
   ]
  },
  {
   "cell_type": "code",
   "execution_count": 15,
   "metadata": {},
   "outputs": [
    {
     "name": "stdout",
     "output_type": "stream",
     "text": [
      "object ; Person { name: 'Mrs D', favcolor: 'neon yellow', age: 40, role: '' }\n",
      "string ; {\"name\":\"Mrs D\",\"favcolor\":\"neon yellow\",\"age\":40,\"role\":\"\"}\n",
      "object ; Person {\n",
      "  name: 'Mrs D',\n",
      "  favcolor: 'neon yellow',\n",
      "  age: 40,\n",
      "  role: 'Teacher' }\n",
      "string ; {\"name\":\"Mrs D\",\"favcolor\":\"neon yellow\",\"age\":40,\"role\":\"Teacher\"}\n"
     ]
    }
   ],
   "source": [
    "// define a function to hold data for a Person\n",
    "function Person(name, favcolor, age) {\n",
    "  this.name = name;\n",
    "  this.favcolor = favcolor;\n",
    "  this.age = age;\n",
    "  this.role = \"\";\n",
    "}\n",
    "\n",
    "// define a setter for role in Person data\n",
    "Person.prototype.setRole = function(role) {\n",
    "  this.role = role;\n",
    "}\n",
    "\n",
    "// define a JSON conversion \"method\" associated with Person\n",
    "Person.prototype.toJSON = function() {\n",
    "  const obj = {name: this.name, favcolor: this.favcolor, age: this.age, role: this.role};\n",
    "  const json = JSON.stringify(obj);\n",
    "  return json;\n",
    "}\n",
    "\n",
    "// make a new Person and assign to variable teacher\n",
    "var teacher = new Person(\"Mrs D\", \"neon yellow\", 40);  // object type is easy to work with in JavaScript\n",
    "logItType(teacher);  // before role\n",
    "logItType(teacher.toJSON());  // ok to do this even though role is not yet defined\n",
    "\n",
    "// output of Object and JSON/string associated with Teacher\n",
    "teacher.setRole(\"Teacher\");   // set the role\n",
    "logItType(teacher); \n",
    "logItType(teacher.toJSON());"
   ]
  },
  {
   "cell_type": "markdown",
   "metadata": {},
   "source": [
    "### Build students and classroom array\n",
    "- var students is an array of all the students\n",
    "- forEach goes through the array and .push adds to it"
   ]
  },
  {
   "cell_type": "code",
   "execution_count": 16,
   "metadata": {},
   "outputs": [
    {
     "name": "stdout",
     "output_type": "stream",
     "text": [
      "object ; [ Person {\n",
      "    name: 'Mrs D',\n",
      "    favcolor: 'neon yellow',\n",
      "    age: 40,\n",
      "    role: 'Teacher' },\n",
      "  Person { name: 'Tanisha', favcolor: 'purple', age: 15, role: 'Student' },\n",
      "  Person { name: 'Claire', favcolor: 'pink', age: 15, role: 'Student' },\n",
      "  Person { name: 'Amitha', favcolor: 'blue', age: 17, role: 'Student' },\n",
      "  Person { name: 'Grace', favcolor: 'sage', age: 17, role: 'Student' } ]\n",
      "string ; Mrs D\n",
      "string ; {\"name\":\"Mrs D\",\"favcolor\":\"neon yellow\",\"age\":40,\"role\":\"Teacher\"}\n",
      "object ; { name: 'Mrs D',\n",
      "  favcolor: 'neon yellow',\n",
      "  age: 40,\n",
      "  role: 'Teacher' }\n"
     ]
    }
   ],
   "source": [
    "// define a student Array of Person(s)\n",
    "var students = [ \n",
    "    new Person(\"Tanisha\", \"purple\", 15),\n",
    "    new Person(\"Claire\", \"pink\", 15),\n",
    "    new Person(\"Amitha\", \"blue\", 17),\n",
    "    new Person(\"Grace\", \"sage\", 17),\n",
    "];\n",
    "\n",
    "// define a classroom and build Classroom objects and json\n",
    "function Classroom(teacher, students){ // 1 teacher, many student\n",
    "    // start Classroom with Teacher\n",
    "    teacher.setRole(\"Teacher\");\n",
    "    this.teacher = teacher;\n",
    "    this.classroom = [teacher];\n",
    "    // add each Student to Classroom\n",
    "    this.students = students;\n",
    "    this.students.forEach(student => { student.setRole(\"Student\"); this.classroom.push(student); });\n",
    "    // build json/string format of Classroom\n",
    "    this.json = [];\n",
    "    this.classroom.forEach(person => this.json.push(person.toJSON()));\n",
    "}\n",
    "\n",
    "// make a CompSci classroom from formerly defined teacher and students\n",
    "compsci = new Classroom(teacher, students);\n",
    "\n",
    "// output of Objects and JSON in CompSci classroom\n",
    "logItType(compsci.classroom);  // constructed classroom object\n",
    "logItType(compsci.classroom[0].name);  // abstract 1st objects name\n",
    "logItType(compsci.json[0]);  // show json conversion of 1st object to string\n",
    "logItType(JSON.parse(compsci.json[0]));  // show JSON.parse inverse of JSON.stringify"
   ]
  },
  {
   "cell_type": "markdown",
   "metadata": {},
   "source": [
    "# Table \n",
    "- var style is building the formatting of table\n",
    "- var body is creating the rows and headings. loop creates a new row for every person"
   ]
  },
  {
   "cell_type": "code",
   "execution_count": 17,
   "metadata": {},
   "outputs": [
    {
     "data": {
      "text/html": [
       "<div style='display:inline-block;border: 2px solid grey;box-shadow: 0.8em 0.4em 0.4em grey;'><table><tr><th><mark>Name</mark></th><th><mark>Favorite Color</mark></th><th><mark>Age</mark></th><th><mark>Role</mark></th></tr><tr><td>Mrs D</td><td>neon yellow</td><td>40</td><td>Teacher</td><tr><tr><td>Tanisha</td><td>purple</td><td>15</td><td>Student</td><tr><tr><td>Claire</td><td>pink</td><td>15</td><td>Student</td><tr><tr><td>Amitha</td><td>blue</td><td>17</td><td>Student</td><tr><tr><td>Grace</td><td>sage</td><td>17</td><td>Student</td><tr></table></div>"
      ]
     },
     "execution_count": 17,
     "metadata": {},
     "output_type": "execute_result"
    }
   ],
   "source": [
    "// define an HTML conversion \"method\" associated with Classroom\n",
    "Classroom.prototype._toHtml = function() {\n",
    "    // HTML Style is build using inline structure\n",
    "    var style = (\n",
    "      \"display:inline-block;\" +\n",
    "      \"border: 2px solid grey;\" +\n",
    "      \"box-shadow: 0.8em 0.4em 0.4em grey;\"\n",
    "    );\n",
    "  \n",
    "    // HTML Body of Table is build as a series of concatenations (+=)\n",
    "    var body = \"\";\n",
    "    // Heading for Array Columns\n",
    "    body += \"<tr>\";\n",
    "    body += \"<th><mark>\" + \"Name\" + \"</mark></th>\";\n",
    "    body += \"<th><mark>\" + \"Favorite Color\" + \"</mark></th>\";\n",
    "    body += \"<th><mark>\" + \"Age\" + \"</mark></th>\";\n",
    "    body += \"<th><mark>\" + \"Role\" + \"</mark></th>\";\n",
    "    body += \"</tr>\";\n",
    "    // Data of Array, iterate through each row of compsci.classroom \n",
    "    for (var row of compsci.classroom) {\n",
    "      // tr for each row, a new line\n",
    "      body += \"<tr>\";\n",
    "      // td for each column of data\n",
    "      body += \"<td>\" + row.name + \"</td>\";\n",
    "      body += \"<td>\" + row.favcolor + \"</td>\";\n",
    "      body += \"<td>\" + row.age + \"</td>\";\n",
    "      body += \"<td>\" + row.role + \"</td>\";\n",
    "      // tr to end line\n",
    "      body += \"<tr>\";\n",
    "    }\n",
    "  \n",
    "     // Build and HTML fragment of div, table, table body\n",
    "    return (\n",
    "      \"<div style='\" + style + \"'>\" +\n",
    "        \"<table>\" +\n",
    "          body +\n",
    "        \"</table>\" +\n",
    "      \"</div>\"\n",
    "    );\n",
    "  \n",
    "  };\n",
    "  \n",
    "  // IJavaScript HTML processor receive parameter of defined HTML fragment\n",
    "  $$.html(compsci._toHtml());"
   ]
  }
 ],
 "metadata": {
  "kernelspec": {
   "display_name": "JavaScript (Node.js)",
   "language": "javascript",
   "name": "javascript"
  },
  "language_info": {
   "file_extension": ".js",
   "mimetype": "application/javascript",
   "name": "javascript",
   "version": "6.11.2"
  },
  "orig_nbformat": 4,
  "vscode": {
   "interpreter": {
    "hash": "41a7dcd7e8ea2413500fd09a2d330dee66e4ea44c9fbad64303e6bd2eb744932"
   }
  }
 },
 "nbformat": 4,
 "nbformat_minor": 2
}
