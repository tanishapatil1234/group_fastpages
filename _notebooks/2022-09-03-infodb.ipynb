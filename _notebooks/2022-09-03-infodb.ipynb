{
 "cells": [
  {
   "cell_type": "markdown",
   "metadata": {},
   "source": [
    "# Info Data Base\n",
    "> Python List Dictionaries Iteration\n",
    "\n",
    "- title: Info Data Base\n",
    "- image: /images/dbaseimage.png\n",
    "- tags: [python, week2]"
   ]
  },
  {
   "cell_type": "markdown",
   "metadata": {},
   "source": [
    "InfoDb is a database that has information about students' grades, their names, and student id numbers within it. The final goal is to get an input from the user of the student ID, find it in the dictionary, and print the correct student's information."
   ]
  },
  {
   "cell_type": "code",
   "execution_count": 95,
   "metadata": {},
   "outputs": [
    {
     "name": "stdout",
     "output_type": "stream",
     "text": [
      "[{'Name': ['Sofia Kemuel'], 'Student ID': ['1029'], 'Math': ['88% B+'], 'English': ['93% A-'], 'History': ['95% A'], 'Art': ['98% A+'], 'Physical Education': ['89% B+']}, {'Name': ['Jennifer Darcey'], 'Student ID': ['2837'], 'Math': ['77% C+'], 'English': ['90% A-'], 'History': ['91% A-'], 'Art': ['100% A+'], 'Physical Education': ['82% B-']}]\n",
      "\n"
     ]
    }
   ],
   "source": [
    "# Define an empty List called InfoDb\n",
    "InfoDb = []\n",
    "\n",
    "# Append to List a Dictionary of key/values related student and grades\n",
    "InfoDb.append({\n",
    "    \"Name\": [\"Sofia Kemuel\"],\n",
    "    \"Student ID\": [\"1029\"],\n",
    "    \"Math\": [\"88% B+\"],\n",
    "    \"English\": [\"93% A-\"],\n",
    "    \"History\": [\"95% A\"],\n",
    "    \"Art\": [\"98% A+\"],\n",
    "    \"Physical Education\": [\"89% B+\"],\n",
    "})\n",
    "# Append to List a 2nd Dictionary of key/values\n",
    "InfoDb.append({\n",
    "    \"Name\": [\"Jennifer Darcey\"],\n",
    "    \"Student ID\": [\"2837\"],\n",
    "    \"Math\": [\"77% C+\"],\n",
    "    \"English\": [\"90% A-\"],\n",
    "    \"History\": [\"91% A-\"],\n",
    "    \"Art\": [\"100% A+\"],\n",
    "    \"Physical Education\": [\"82% B-\"],\n",
    "})\n",
    "\n",
    "\n",
    "# Print the data structure\n",
    "print(InfoDb)\n",
    "print()"
   ]
  },
  {
   "cell_type": "markdown",
   "metadata": {},
   "source": [
    "As you can see, the code cell above has just saved the information of students Sofia and Jennifer within the dictionaries. "
   ]
  },
  {
   "cell_type": "code",
   "execution_count": 96,
   "metadata": {},
   "outputs": [
    {
     "name": "stdout",
     "output_type": "stream",
     "text": [
      "['Sofia Kemuel']\n",
      "\t Student ID: ['1029']\n",
      "\t Math: ['88% B+']\n",
      "\t English: ['93% A-']\n",
      "\t History: ['95% A']\n",
      "\t Art: ['98% A+']\n",
      "\t Physical Education: ['89% B+']\n",
      "\n",
      "['Jennifer Darcey']\n",
      "\t Student ID: ['2837']\n",
      "\t Math: ['77% C+']\n",
      "\t English: ['90% A-']\n",
      "\t History: ['91% A-']\n",
      "\t Art: ['100% A+']\n",
      "\t Physical Education: ['82% B-']\n",
      "\n"
     ]
    }
   ],
   "source": [
    "# Print InfoDb contents\n",
    "def print_data(db):\n",
    "    print(db[\"Name\"])  \n",
    "    print(\"\\t\", \"Student ID:\", db[\"Student ID\"])  \n",
    "    print(\"\\t\", \"Math:\", db[\"Math\"]) \n",
    "    print(\"\\t\", \"English:\", db[\"English\"])\n",
    "    print(\"\\t\", \"History:\", db[\"History\"])\n",
    "    print(\"\\t\", \"Art:\", db[\"Art\"])\n",
    "    print(\"\\t\", \"Physical Education:\", db[\"Physical Education\"])\n",
    "    print()\n",
    "\n",
    "# define function for_loop to print dictionaries\n",
    "def for_loop():\n",
    "    for record in InfoDb:\n",
    "        print_data(record)\n",
    "\n",
    "for_loop()"
   ]
  },
  {
   "cell_type": "markdown",
   "metadata": {},
   "source": [
    "Using a for loop, the code cell above finds the record within InfoDb and prints student information one by one for all students (2)."
   ]
  },
  {
   "cell_type": "code",
   "execution_count": 97,
   "metadata": {},
   "outputs": [
    {
     "name": "stdout",
     "output_type": "stream",
     "text": [
      "['Sofia Kemuel']\n",
      "\t Student ID: ['1029']\n",
      "\t Math: ['88% B+']\n",
      "\t English: ['93% A-']\n",
      "\t History: ['95% A']\n",
      "\t Art: ['98% A+']\n",
      "\t Physical Education: ['89% B+']\n",
      "\n",
      "['Jennifer Darcey']\n",
      "\t Student ID: ['2837']\n",
      "\t Math: ['77% C+']\n",
      "\t English: ['90% A-']\n",
      "\t History: ['91% A-']\n",
      "\t Art: ['100% A+']\n",
      "\t Physical Education: ['82% B-']\n",
      "\n"
     ]
    }
   ],
   "source": [
    "# define while loop to print contents of InfoDb. Loops based on length and i\n",
    "def while_loop():\n",
    "    i = 0\n",
    "    while i < len(InfoDb):\n",
    "        record = InfoDb[i]\n",
    "        print_data(record)\n",
    "        i += 1\n",
    "    return\n",
    "\n",
    "while_loop()"
   ]
  },
  {
   "cell_type": "markdown",
   "metadata": {},
   "source": [
    "The code cell above executes a code using a while loop to print the contents of the dictionary. It loops comparing a value i to the length of the dictionary."
   ]
  },
  {
   "cell_type": "code",
   "execution_count": 98,
   "metadata": {},
   "outputs": [
    {
     "name": "stdout",
     "output_type": "stream",
     "text": [
      "['Sofia Kemuel']\n",
      "\t Student ID: ['1029']\n",
      "\t Math: ['88% B+']\n",
      "\t English: ['93% A-']\n",
      "\t History: ['95% A']\n",
      "\t Art: ['98% A+']\n",
      "\t Physical Education: ['89% B+']\n",
      "\n",
      "['Jennifer Darcey']\n",
      "\t Student ID: ['2837']\n",
      "\t Math: ['77% C+']\n",
      "\t English: ['90% A-']\n",
      "\t History: ['91% A-']\n",
      "\t Art: ['100% A+']\n",
      "\t Physical Education: ['82% B-']\n",
      "\n"
     ]
    }
   ],
   "source": [
    "# recursive loops until condition to exit is met (i+1) using len of dictionary\n",
    "def recursive_loop(i):\n",
    "    if i < len(InfoDb):\n",
    "        record = InfoDb[i]\n",
    "        print_data(record)\n",
    "        recursive_loop(i + 1)\n",
    "    return\n",
    "    \n",
    "recursive_loop(0)"
   ]
  },
  {
   "cell_type": "markdown",
   "metadata": {},
   "source": [
    "The code cell above prints the contents of the infodb dictionary using a recursive function (meaning the function itself is called within the loop)"
   ]
  },
  {
   "cell_type": "code",
   "execution_count": 102,
   "metadata": {},
   "outputs": [
    {
     "name": "stdout",
     "output_type": "stream",
     "text": [
      "['Sofia Kemuel']\n",
      "\t Student ID: ['1029']\n",
      "\t Math: ['88% B+']\n",
      "\t English: ['93% A-']\n",
      "\t History: ['95% A']\n",
      "\t Art: ['98% A+']\n",
      "\t Physical Education: ['89% B+']\n",
      "\n"
     ]
    }
   ],
   "source": [
    "# Ask user for student ID and save in input_id variable\n",
    "input_id = input(\"Enter student ID: \")\n",
    "\n",
    "\n",
    "\n",
    "# define function to find in InfoDb and print information corrsponding to certain ID \n",
    "def loop_with_input():\n",
    "    for record in InfoDb:\n",
    "        if search(record, input_id):\n",
    "            print_data(record)\n",
    "\n",
    "loop_with_input()\n",
    "\n",
    "\n"
   ]
  },
  {
   "cell_type": "markdown",
   "metadata": {},
   "source": [
    "The code cell above takes the input from the user and assigns it to the variable \"input_id\". It uses a for loop and 'record' in InfoDb to loop betweeen all the student's data one by one. It checks whether input_id is in each student's data. If it is, it prints the student data. "
   ]
  }
 ],
 "metadata": {
  "kernelspec": {
   "display_name": "Python 3.8.10 64-bit",
   "language": "python",
   "name": "python3"
  },
  "language_info": {
   "codemirror_mode": {
    "name": "ipython",
    "version": 3
   },
   "file_extension": ".py",
   "mimetype": "text/x-python",
   "name": "python",
   "nbconvert_exporter": "python",
   "pygments_lexer": "ipython3",
   "version": "3.8.10"
  },
  "orig_nbformat": 4,
  "vscode": {
   "interpreter": {
    "hash": "916dbcbb3f70747c44a77c7bcd40155683ae19c65e1c03b4aa3499c5328201f1"
   }
  }
 },
 "nbformat": 4,
 "nbformat_minor": 2
}
