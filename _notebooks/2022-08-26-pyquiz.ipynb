{
 "cells": [
  {
   "cell_type": "markdown",
   "metadata": {},
   "source": [
    " # Test Change "
   ]
  },
  {
   "cell_type": "code",
   "execution_count": 5,
   "metadata": {},
   "outputs": [
    {
     "name": "stdout",
     "output_type": "stream",
     "text": [
      "Hello, Tanisha\n",
      "Great, let's get started\n",
      "No! That is incorrect\n",
      "Correct! Time for the next question\n",
      "Correct! Time for the next question\n",
      "No! That is incorrect\n",
      "Congrats! You finished the quiz. Your score is: 2/4. Better luck next time\n"
     ]
    }
   ],
   "source": [
    "#intro: \n",
    "score = 0\n",
    "username = input('Enter your name:')\n",
    "\n",
    "print('Hello, ' + username)\n",
    "ready = input(\"This quiz will test your knowledge of python vocabulary. It is four questions long. Are you ready to take the test? Answer yes or no\")\n",
    "if ready == 'yes':\n",
    "    print(\"Great, let's get started\")\n",
    "else: \n",
    "    print(\"Don't worry, you'll do great\")\n",
    "\n",
    "#question 1: \n",
    "answer_1 = input(\"Question 1: What is a statement containing if or if/else called?\")\n",
    "if answer_1 == 'conditional':\n",
    "    print(\"Correct! Time for the next question\")\n",
    "    score = score + 1\n",
    "else:\n",
    "    print(\"No! That is incorrect\")\n",
    "#question 2: \n",
    "answer_2 = input(\"Question 2: Fill in the blank: ___ is a datatype with only two possible values; true or false\")\n",
    "if answer_2 == 'boolean':\n",
    "    print(\"Correct! Time for the next question\")\n",
    "    score = score + 1\n",
    "else:\n",
    "    print(\"No! That is incorrect\")\n",
    "#question 3: \n",
    "answer_3 = input(\"Question 3: What should you write before a function to DEFine it\")\n",
    "if answer_3 == 'def':\n",
    "    print(\"Correct! Time for the next question\")\n",
    "    score = score + 1\n",
    "else:\n",
    "    print(\"No! That is incorrect\")\n",
    "#question 4: \n",
    "answer_4 = input(\"Question 4: What can you use to store values?\")\n",
    "if answer_4 == 'variable':\n",
    "    print(\"Correct! Time for the next question\")\n",
    "    score = score + 1\n",
    "else:\n",
    "    print(\"No! That is incorrect\")\n",
    "#end\n",
    "\n",
    "if score >= 3:\n",
    "    print(\"Congrats! You finished the quiz and did so well! Your score is: {}/4\" .format(score))\n",
    "else: \n",
    "    print(\"Congrats! You finished the quiz. Your score is: {}/4. Better luck next time\" .format(score))\n"
   ]
  }
 ],
 "metadata": {
  "kernelspec": {
   "display_name": "Python 3.9.12 ('base')",
   "language": "python",
   "name": "python3"
  },
  "language_info": {
   "codemirror_mode": {
    "name": "ipython",
    "version": 3
   },
   "file_extension": ".py",
   "mimetype": "text/x-python",
   "name": "python",
   "nbconvert_exporter": "python",
   "pygments_lexer": "ipython3",
   "version": "3.9.12"
  },
  "orig_nbformat": 4,
  "vscode": {
   "interpreter": {
    "hash": "41a7dcd7e8ea2413500fd09a2d330dee66e4ea44c9fbad64303e6bd2eb744932"
   }
  }
 },
 "nbformat": 4,
 "nbformat_minor": 2
}
