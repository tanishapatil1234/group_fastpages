{
 "cells": [
  {
   "cell_type": "markdown",
   "metadata": {},
   "source": [
    "# Using RapidAPI to Get Data\n",
    "- layout: default\n",
    "- badges: false\n",
    "- permalink: /notebooks/api_example\n",
    "- categories: [API]"
   ]
  },
  {
   "cell_type": "code",
   "execution_count": 28,
   "metadata": {},
   "outputs": [
    {
     "name": "stdout",
     "output_type": "stream",
     "text": [
      "City Data: Al Mamzar\n",
      "id 3515514\n",
      "wikiDataId Q4117373\n",
      "name Al Mamzar\n",
      "country United Arab Emirates\n",
      "countryCode AE\n",
      "region Dubai\n",
      "regionCode DU\n",
      "latitude 25.309469444\n",
      "longitude 55.342811111\n",
      "population 0\n"
     ]
    }
   ],
   "source": [
    "import requests\n",
    "\n",
    "url = \"https://wft-geo-db.p.rapidapi.com/v1/geo/adminDivisions\"\n",
    "\n",
    "headers = {\n",
    "\t\"X-RapidAPI-Key\": \"2589d0d945msh900743935f389a8p15c96ejsn5364cd142d31\",\n",
    "\t\"X-RapidAPI-Host\": \"wft-geo-db.p.rapidapi.com\"\n",
    "}\n",
    "\n",
    "response = requests.request(\"GET\", url, headers=headers)\n",
    "\n",
    "# print(response.text)\n",
    "\n",
    "print(\"City Data: Al Mamzar\")\n",
    "cities = response.json().get('data')\n",
    "for city in cities:  # countries is a list\n",
    "    if city[\"name\"] == \"Al Mamzar\":  # this filters for USA\n",
    "        for key, value in city.items():  # this finds key, value pairs in country\n",
    "            print(key, value)\n",
    "\n",
    "\n"
   ]
  }
 ],
 "metadata": {
  "kernelspec": {
   "display_name": "Python 3.8.10 64-bit",
   "language": "python",
   "name": "python3"
  },
  "language_info": {
   "codemirror_mode": {
    "name": "ipython",
    "version": 3
   },
   "file_extension": ".py",
   "mimetype": "text/x-python",
   "name": "python",
   "nbconvert_exporter": "python",
   "pygments_lexer": "ipython3",
   "version": "3.8.10"
  },
  "orig_nbformat": 4,
  "vscode": {
   "interpreter": {
    "hash": "916dbcbb3f70747c44a77c7bcd40155683ae19c65e1c03b4aa3499c5328201f1"
   }
  }
 },
 "nbformat": 4,
 "nbformat_minor": 2
}
