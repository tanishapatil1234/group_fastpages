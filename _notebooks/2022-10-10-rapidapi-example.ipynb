{
 "cells": [
  {
   "cell_type": "markdown",
   "metadata": {},
   "source": [
    "# Using RapidAPI to Get Data"
   ]
  },
  {
   "cell_type": "code",
   "execution_count": 15,
   "metadata": {},
   "outputs": [
    {
     "name": "stdout",
     "output_type": "stream",
     "text": [
      "Data for Eminem{\"ok\":true,\"result\":{\"songs\":[{\"id\":\"zlJ0Aj9y67c\",\"name\":\"Eminem - Lose Yourself\",\"title\":\"Lose Yourself\",\"artists\":[{\"artist_id\":\"UCedvOgsKFzcK3hA5taf3KoQ\",\"name\":\"Eminem\"}],\"album\":{\"album_id\":\"MPREb_iwMjyngE7Gd\",\"name\":\"8 Mile\"},\"duration\":320,\"thumbnail\":\"https://lh3.googleusercontent.com/2moJtcAYOkXNBpRllYC9qiJcONdI9k29nH9Q-Hjl_tdh229x0pOlPEPWvhHmO8gqhVrZrWKuNQrpi9pJ=w120-h120-s-l90-rj\"},{\"id\":\"-grPV-Fae6I\",\"name\":\"Eminem - Not Afraid\",\"title\":\"Not Afraid\",\"artists\":[{\"artist_id\":\"UCedvOgsKFzcK3hA5taf3KoQ\",\"name\":\"Eminem\"}],\"album\":{\"album_id\":\"MPREb_UUFKiZYr3uO\",\"name\":\"Recovery\"},\"duration\":248,\"thumbnail\":\"https://lh3.googleusercontent.com/IUuZFSUqFLMQlejTtsnLM_cB16A0T1g-savL7DYbWz5NFh2-DOw5-v9_PREJt9keX48NSan-8yUQCPM=w120-h120-l90-rj\"},{\"id\":\"hWqLuSnyqbI\",\"name\":\"Eminem - When I'm Gone\",\"title\":\"When I'm Gone\",\"artists\":[{\"artist_id\":\"UCedvOgsKFzcK3hA5taf3KoQ\",\"name\":\"Eminem\"}],\"album\":{\"album_id\":\"MPREb_1gZRXuZuGRz\",\"name\":\"When I'm Gone\"},\"duration\":282,\"thumbnail\":\"https://lh3.googleusercontent.com/9YBAKxPIYWeNXLfeRcfK6fsJ3ctb5BuhhgTubnZdshjPKfM0JrRxp3jhAaT1gJD4JInGLG23yceZZsgG=w120-h120-l90-rj\"},{\"id\":\"o9K0lsK6qLM\",\"name\":\"Eminem - Stan (feat. Dido)\",\"title\":\"Stan (feat. Dido)\",\"artists\":[{\"artist_id\":\"UCedvOgsKFzcK3hA5taf3KoQ\",\"name\":\"Eminem\"}],\"album\":{\"album_id\":\"MPREb_yqgLQ6ULp6o\",\"name\":\"Curtain Call: The Hits\"},\"duration\":402,\"thumbnail\":\"https://lh3.googleusercontent.com/aFEn-Chr8D_Q2Iu9EXwVuWwWRgZvfSbwzHuxMCnO21ivUO7vpz1MIahHA9GedlUGrHPKdPKNVnX6FNE=w120-h120-s-l90-rj\"},{\"id\":\"Zxnnuj4Vp_g\",\"name\":\"Eminem - Cleanin' out My Closet\",\"title\":\"Cleanin' out My Closet\",\"artists\":[{\"artist_id\":\"UCedvOgsKFzcK3hA5taf3KoQ\",\"name\":\"Eminem\"}],\"album\":{\"album_id\":\"MPREb_6hyn9PhqicQ\",\"name\":\"The Eminem Show\"},\"duration\":297,\"thumbnail\":\"https://lh3.googleusercontent.com/GJmbTYfaMrWuPSzhOAy7jGCQ70a2UN2-0moTq-uh_Prd73-Au51FDHhGteg543a7iBv1Y9SPm4huMSBS=w120-h120-s-l90-rj\"},{\"id\":\"HnEwvZYdAlE\",\"name\":\"Eminem - When I'm Gone\",\"title\":\"When I'm Gone\",\"artists\":[{\"artist_id\":\"UCedvOgsKFzcK3hA5taf3KoQ\",\"name\":\"Eminem\"}],\"album\":{\"album_id\":\"MPREb_yqgLQ6ULp6o\",\"name\":\"Curtain Call: The Hits\"},\"duration\":280,\"thumbnail\":\"https://lh3.googleusercontent.com/aFEn-Chr8D_Q2Iu9EXwVuWwWRgZvfSbwzHuxMCnO21ivUO7vpz1MIahHA9GedlUGrHPKdPKNVnX6FNE=w120-h120-s-l90-rj\"},{\"id\":\"RnkShwdXfyc\",\"name\":\"Eminem - Love The Way You Lie (feat. Rihanna)\",\"title\":\"Love The Way You Lie (feat. Rihanna)\",\"artists\":[{\"artist_id\":\"UCedvOgsKFzcK3hA5taf3KoQ\",\"name\":\"Eminem\"}],\"album\":{\"album_id\":\"MPREb_UUFKiZYr3uO\",\"name\":\"Recovery\"},\"duration\":263,\"thumbnail\":\"https://lh3.googleusercontent.com/IUuZFSUqFLMQlejTtsnLM_cB16A0T1g-savL7DYbWz5NFh2-DOw5-v9_PREJt9keX48NSan-8yUQCPM=w120-h120-l90-rj\"},{\"id\":\"Mf3bXYTE264\",\"name\":\"Eminem, 50 Cent - Is This Love ('09)\",\"title\":\"Is This Love ('09)\",\"artists\":[{\"artist_id\":\"UCedvOgsKFzcK3hA5taf3KoQ\",\"name\":\"Eminem\"},{\"artist_id\":\"UCOcnYBwT1jb6EHlS0cwhNkA\",\"name\":\"50 Cent\"}],\"album\":{\"album_id\":\"MPREb_WALokSukf0y\",\"name\":\"Curtain Call 2\"},\"duration\":213,\"thumbnail\":\"https://lh3.googleusercontent.com/RO5rWMzQC54EdvsxtXp85RAQL9_C63IqIZwIVNJ7cFa3wLGuzhp0HQR4yIkbO6e_9GC7gazPDligUNs=w120-h120-l90-rj\"},{\"id\":\"ifi6mPWoXxY\",\"name\":\"Eminem - Brain Damage\",\"title\":\"Brain Damage\",\"artists\":[{\"artist_id\":\"UCedvOgsKFzcK3hA5taf3KoQ\",\"name\":\"Eminem\"}],\"album\":{\"album_id\":\"MPREb_C4vvzBDrV4s\",\"name\":\"The Slim Shady LP\"},\"duration\":226,\"thumbnail\":\"https://lh3.googleusercontent.com/RlNQH10lYn2OcqkI4eAeQJl5UV83H40ifk8TRkQKaYB3-5o-SepHkMexf6tqeyuGPRlumFWh2N1_olui=w120-h120-s-l90-rj\"},{\"id\":\"UimodeZfA9o\",\"name\":\"Eminem - I'm Back\",\"title\":\"I'm Back\",\"artists\":[{\"artist_id\":\"UCedvOgsKFzcK3hA5taf3KoQ\",\"name\":\"Eminem\"}],\"album\":{\"album_id\":\"MPREb_1Xjf214SdV1\",\"name\":\"The Marshall Mathers LP\"},\"duration\":309,\"thumbnail\":\"https://lh3.googleusercontent.com/O-SeXg61tYo15uWSBzWPVoUlBx2mQAioidlHq3y-AurmaQZI2Vso7BJoGeDNAm2g6HquAq1z4g-1EBI=w120-h120-l90-rj\"},{\"id\":\"-T5I__Jdl3w\",\"name\":\"Eminem - 8 Mile\",\"title\":\"8 Mile\",\"artists\":[{\"artist_id\":\"UCedvOgsKFzcK3hA5taf3KoQ\",\"name\":\"Eminem\"}],\"album\":{\"album_id\":\"MPREb_iwMjyngE7Gd\",\"name\":\"8 Mile\"},\"duration\":359,\"thumbnail\":\"https://lh3.googleusercontent.com/2moJtcAYOkXNBpRllYC9qiJcONdI9k29nH9Q-Hjl_tdh229x0pOlPEPWvhHmO8gqhVrZrWKuNQrpi9pJ=w120-h120-s-l90-rj\"},{\"id\":\"kcm8jQBQ6kg\",\"name\":\"Eminem - My Dad's Gone Crazy (feat. Hailie Jade)\",\"title\":\"My Dad's Gone Crazy (feat. Hailie Jade)\",\"artists\":[{\"artist_id\":\"UCedvOgsKFzcK3hA5taf3KoQ\",\"name\":\"Eminem\"}],\"album\":{\"album_id\":\"MPREb_6hyn9PhqicQ\",\"name\":\"The Eminem Show\"},\"duration\":266,\"thumbnail\":\"https://lh3.googleusercontent.com/GJmbTYfaMrWuPSzhOAy7jGCQ70a2UN2-0moTq-uh_Prd73-Au51FDHhGteg543a7iBv1Y9SPm4huMSBS=w120-h120-s-l90-rj\"},{\"id\":\"9kznlAwE-8o\",\"name\":\"Eminem - Mockingbird\",\"title\":\"Mockingbird\",\"artists\":[{\"artist_id\":\"UCedvOgsKFzcK3hA5taf3KoQ\",\"name\":\"Eminem\"}],\"album\":{\"album_id\":\"MPREb_xFN2XG22AXC\",\"name\":\"Encore\"},\"duration\":250,\"thumbnail\":\"https://lh3.googleusercontent.com/oWyLklmIlgBVjLy63kmFrXfgmzK8EIwpzyXneeLu3Ly6eqB_Usf7zZhZzo-LlwbxMx4WugYNW1Lp-ec=w120-h120-l90-rj\"},{\"id\":\"-SeVN2u5Axc\",\"name\":\"Eminem - Kim\",\"title\":\"Kim\",\"artists\":[{\"artist_id\":\"UCedvOgsKFzcK3hA5taf3KoQ\",\"name\":\"Eminem\"}],\"album\":{\"album_id\":\"MPREb_1Xjf214SdV1\",\"name\":\"The Marshall Mathers LP\"},\"duration\":377,\"thumbnail\":\"https://lh3.googleusercontent.com/O-SeXg61tYo15uWSBzWPVoUlBx2mQAioidlHq3y-AurmaQZI2Vso7BJoGeDNAm2g6HquAq1z4g-1EBI=w120-h120-l90-rj\"},{\"id\":\"25aDpUpoj4k\",\"name\":\"Eminem - Bump Heads (feat. Tony Yayo, 50 Cent & Lloyd Banks)\",\"title\":\"Bump Heads (feat. Tony Yayo, 50 Cent & Lloyd Banks)\",\"artists\":[{\"artist_id\":\"UCedvOgsKFzcK3hA5taf3KoQ\",\"name\":\"Eminem\"}],\"album\":{\"album_id\":\"MPREb_nVOvQM1ODKM\",\"name\":\"The Eminem Show (Expanded Edition)\"},\"duration\":282,\"thumbnail\":\"https://lh3.googleusercontent.com/qZ1t1WxAxBits3wzoatt34NtCK3Nwq6w3Z7L_UFVL6zxusQzAh07TpwXOi2M3_mgykASPVxT2CAh0ul6=w120-h120-l90-rj\"},{\"id\":\"HIqQ0PfuPo8\",\"name\":\"Eminem - Stan (feat. Dido)\",\"title\":\"Stan (feat. Dido)\",\"artists\":[{\"artist_id\":\"UCedvOgsKFzcK3hA5taf3KoQ\",\"name\":\"Eminem\"}],\"album\":{\"album_id\":\"MPREb_1Xjf214SdV1\",\"name\":\"The Marshall Mathers LP\"},\"duration\":404,\"thumbnail\":\"https://lh3.googleusercontent.com/O-SeXg61tYo15uWSBzWPVoUlBx2mQAioidlHq3y-AurmaQZI2Vso7BJoGeDNAm2g6HquAq1z4g-1EBI=w120-h120-l90-rj\"},{\"id\":\"tqxRidAWER8\",\"name\":\"Eminem - Without Me\",\"title\":\"Without Me\",\"artists\":[{\"artist_id\":\"UCedvOgsKFzcK3hA5taf3KoQ\",\"name\":\"Eminem\"}],\"album\":{\"album_id\":\"MPREb_6hyn9PhqicQ\",\"name\":\"The Eminem Show\"},\"duration\":290,\"thumbnail\":\"https://lh3.googleusercontent.com/GJmbTYfaMrWuPSzhOAy7jGCQ70a2UN2-0moTq-uh_Prd73-Au51FDHhGteg543a7iBv1Y9SPm4huMSBS=w120-h120-s-l90-rj\"},{\"id\":\"HGnpwvw3cwM\",\"name\":\"Eminem - Till I Collapse (Instrumental)\",\"title\":\"Till I Collapse (Instrumental)\",\"artists\":[{\"artist_id\":\"UCedvOgsKFzcK3hA5taf3KoQ\",\"name\":\"Eminem\"}],\"album\":{\"album_id\":\"MPREb_nVOvQM1ODKM\",\"name\":\"The Eminem Show (Expanded Edition)\"},\"duration\":346,\"thumbnail\":\"https://lh3.googleusercontent.com/qZ1t1WxAxBits3wzoatt34NtCK3Nwq6w3Z7L_UFVL6zxusQzAh07TpwXOi2M3_mgykASPVxT2CAh0ul6=w120-h120-l90-rj\"},{\"id\":\"37-4H5wwrqc\",\"name\":\"Eminem - So Bad\",\"title\":\"So Bad\",\"artists\":[{\"artist_id\":\"UCedvOgsKFzcK3hA5taf3KoQ\",\"name\":\"Eminem\"}],\"album\":{\"album_id\":\"MPREb_UUFKiZYr3uO\",\"name\":\"Recovery\"},\"duration\":325,\"thumbnail\":\"https://lh3.googleusercontent.com/IUuZFSUqFLMQlejTtsnLM_cB16A0T1g-savL7DYbWz5NFh2-DOw5-v9_PREJt9keX48NSan-8yUQCPM=w120-h120-l90-rj\"},{\"id\":\"MJNGXnvHYPg\",\"name\":\"Eminem - Sing for the Moment\",\"title\":\"Sing for the Moment\",\"artists\":[{\"artist_id\":\"UCedvOgsKFzcK3hA5taf3KoQ\",\"name\":\"Eminem\"}],\"album\":{\"album_id\":\"MPREb_6hyn9PhqicQ\",\"name\":\"The Eminem Show\"},\"duration\":339,\"thumbnail\":\"https://lh3.googleusercontent.com/GJmbTYfaMrWuPSzhOAy7jGCQ70a2UN2-0moTq-uh_Prd73-Au51FDHhGteg543a7iBv1Y9SPm4huMSBS=w120-h120-s-l90-rj\"}],\"videos\":[{\"id\":\"_Yhyp-_hX2s\",\"title\":\"Eminem - Lose Yourself [HD]\",\"duration\":324},{\"id\":\"YVkUvmDQ3HY\",\"title\":\"Without Me MTV Version\",\"duration\":298},{\"id\":\"8CdcCD5V-d8\",\"title\":\"Venom\",\"duration\":296},{\"id\":\"eJO5HU_7_1w\",\"title\":\"The Real Slim Shady Edited\",\"duration\":269},{\"id\":\"uelHwf8o7_U\",\"title\":\"Love The Way You Lie Explicit Version, Closed Captioned (feat. Rihanna)\",\"duration\":267},{\"id\":\"r_0JjYUe5jo\",\"title\":\"Godzilla (feat. Juice WRLD)\",\"duration\":267},{\"id\":\"RHQC4fAhcbU\",\"title\":\"Darkness (Official Video)\",\"duration\":370},{\"id\":\"7bDLIV96LD4\",\"title\":\"Headlights (feat. Nate Ruess)\",\"duration\":251},{\"id\":\"j5-yKhDd64s\",\"title\":\"Not Afraid Explicit Version\",\"duration\":259},{\"id\":\"XbGs_qK2PQA\",\"title\":\"Rap God\",\"duration\":370},{\"id\":\"QFcv5Ma8u8k\",\"title\":\"Forgot About Dre Explicit (feat. Eminem)\",\"duration\":315},{\"id\":\"ytQ5CYE1VZw\",\"title\":\"Eminem - Till I Collapse [HD]\",\"duration\":299},{\"id\":\"ZbytR2avo-0\",\"title\":\"Eminem - Without Me (lyrics)\",\"duration\":292},{\"id\":\"lgT1AidzRWM\",\"title\":\"Beautiful\",\"duration\":255},{\"id\":\"RjrA-slMoZ4\",\"title\":\"From The D 2 The LBC\",\"duration\":287}]}}\n"
     ]
    }
   ],
   "source": [
    "import requests\n",
    "\n",
    "url = \"https://youtube-music1.p.rapidapi.com/v2/search\"\n",
    "\n",
    "querystring = {\"query\":\"eminem\"}\n",
    "\n",
    "headers = {\n",
    "\t\"X-RapidAPI-Key\": \"2589d0d945msh900743935f389a8p15c96ejsn5364cd142d31\",\n",
    "\t\"X-RapidAPI-Host\": \"youtube-music1.p.rapidapi.com\"\n",
    "}\n",
    "\n",
    "response = requests.request(\"GET\", url, headers=headers, params=querystring)\n",
    "\n",
    "print(\"Data for Eminem\" + response.text)"
   ]
  }
 ],
 "metadata": {
  "kernelspec": {
   "display_name": "Python 3.8.10 64-bit",
   "language": "python",
   "name": "python3"
  },
  "language_info": {
   "codemirror_mode": {
    "name": "ipython",
    "version": 3
   },
   "file_extension": ".py",
   "mimetype": "text/x-python",
   "name": "python",
   "nbconvert_exporter": "python",
   "pygments_lexer": "ipython3",
   "version": "3.8.10"
  },
  "orig_nbformat": 4,
  "vscode": {
   "interpreter": {
    "hash": "916dbcbb3f70747c44a77c7bcd40155683ae19c65e1c03b4aa3499c5328201f1"
   }
  }
 },
 "nbformat": 4,
 "nbformat_minor": 2
}
