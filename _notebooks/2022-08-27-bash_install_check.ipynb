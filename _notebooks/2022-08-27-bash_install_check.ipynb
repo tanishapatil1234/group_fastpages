{
 "cells": [
  {
   "cell_type": "markdown",
   "metadata": {},
   "source": [
    "# Bash Install Check\n",
    "## Checks version of Python & Java using Bash and prints output using conditional statement"
   ]
  },
  {
   "cell_type": "code",
   "execution_count": 18,
   "metadata": {
    "vscode": {
     "languageId": "shellscript"
    }
   },
   "outputs": [
    {
     "name": "stdout",
     "output_type": "stream",
     "text": [
      "Java version: 110\n",
      "Python version: 3.9.12\n"
     ]
    }
   ],
   "source": [
    "%%bash\n",
    "#Check version of Java \n",
    " java_version=$(java -version 2>&1 | sed -n ';s/.* version \"\\(.*\\)\\.\\(.*\\)\\..*\".*/\\1\\2/p;')\n",
    "#Check version of Python\n",
    " python_version=`python -c 'import sys; version=sys.version_info[:3]; print(\"{0}.{1}.{2}\".format(*version))'`\n",
    "#Print using conditional statement\n",
    " if [ $java_version > \"0\" ]; then\n",
    "   echo \"Java version: \"$java_version\n",
    " else\n",
    "   echo \"Java not installed\"  \n",
    " fi\n",
    "if [ $python_version > \"0\" ]; then\n",
    "   echo \"Python version: \"$python_version\n",
    " else\n",
    "   echo \"Python not installed\"  \n",
    " fi"
   ]
  }
 ],
 "metadata": {
  "kernelspec": {
   "display_name": "Python 3.9.12 ('base')",
   "language": "python",
   "name": "python3"
  },
  "language_info": {
   "codemirror_mode": {
    "name": "ipython",
    "version": 3
   },
   "file_extension": ".py",
   "mimetype": "text/x-python",
   "name": "python",
   "nbconvert_exporter": "python",
   "pygments_lexer": "ipython3",
   "version": "3.9.12"
  },
  "orig_nbformat": 4,
  "vscode": {
   "interpreter": {
    "hash": "41a7dcd7e8ea2413500fd09a2d330dee66e4ea44c9fbad64303e6bd2eb744932"
   }
  }
 },
 "nbformat": 4,
 "nbformat_minor": 2
}
