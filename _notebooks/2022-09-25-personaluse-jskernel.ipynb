{
 "cells": [
  {
   "cell_type": "markdown",
   "metadata": {},
   "permalink": \Java Script Cheat Sheet\
   "source": [
    "# Java Script Cheat Sheet"
   ]
  },
  {
   "cell_type": "code",
   "execution_count": 24,
   "metadata": {},
   "outputs": [
    {
     "name": "stdout",
     "output_type": "stream",
     "text": [
      "hello\n"
     ]
    }
   ],
   "source": [
    "// console: prints\n",
    "console.log(\"hello\")"
   ]
  },
  {
   "cell_type": "code",
   "execution_count": 26,
   "metadata": {},
   "outputs": [
    {
     "name": "stdout",
     "output_type": "stream",
     "text": [
      "hello friend\n"
     ]
    }
   ],
   "source": [
    "// var: assigns variable\n",
    "// \"str\" + var : prints string variable in that order\n",
    "var msg=\"friend\"; \n",
    "console.log(\"hello \" + msg)"
   ]
  },
  {
   "cell_type": "code",
   "execution_count": 27,
   "metadata": {},
   "outputs": [
    {
     "data": {
      "text/plain": [
       "12"
      ]
     },
     "execution_count": 27,
     "metadata": {},
     "output_type": "execute_result"
    }
   ],
   "source": [
    "// The function returns the product of p1 and p2\n",
    "function myFunction(p1, p2) {\n",
    "    return p1 * p2;   \n",
    "  }\n",
    "myFunction(3, 4)"
   ]
  },
  {
   "cell_type": "code",
   "execution_count": 45,
   "metadata": {},
   "outputs": [
    {
     "name": "stdout",
     "output_type": "stream",
     "text": [
      "9\n"
     ]
    }
   ],
   "source": [
    "// The function returns the largest number in an array\n",
    "console.log(Math.max(1, 3, 2, 4, 5, 2, 9));"
   ]
  },
  {
   "cell_type": "code",
   "execution_count": 58,
   "metadata": {},
   "outputs": [
    {
     "name": "stdout",
     "output_type": "stream",
     "text": [
      "The cosine of 2pi = 1\n"
     ]
    }
   ],
   "source": [
    "// Math.PI is equivalent to Pi, math.cos returns cosine\n",
    "var pi = Math.PI;\n",
    "console.log(\"The cosine of 2pi = \"+ Math.cos(2*pi));"
   ]
  },
  {
   "cell_type": "code",
   "execution_count": 60,
   "metadata": {},
   "outputs": [
    {
     "name": "stdout",
     "output_type": "stream",
     "text": [
      "8\n",
      "8\n",
      "8\n"
     ]
    }
   ],
   "source": [
    "// Math.floor gives value according to floor function\n",
    "console.log(Math.floor(8.99999));\n",
    "console.log(Math.floor(8.00001));\n",
    "console.log(Math.floor(8.5555));"
   ]
  }
 ],
 "metadata": {
  "kernelspec": {
   "display_name": "JavaScript (Node.js)",
   "language": "javascript",
   "name": "javascript"
  },
  "language_info": {
   "name": "javascript",
   "version": "3.9.12"
  },
  "orig_nbformat": 4,
  "vscode": {
   "interpreter": {
    "hash": "41a7dcd7e8ea2413500fd09a2d330dee66e4ea44c9fbad64303e6bd2eb744932"
   }
  }
 },
 "nbformat": 4,
 "nbformat_minor": 2
}
